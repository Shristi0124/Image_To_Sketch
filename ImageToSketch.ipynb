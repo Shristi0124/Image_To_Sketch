{
  "nbformat": 4,
  "nbformat_minor": 0,
  "metadata": {
    "colab": {
      "provenance": [],
      "authorship_tag": "ABX9TyOLbUjV8AnBdF3OzmQBs3BW",
      "include_colab_link": true
    },
    "kernelspec": {
      "name": "python3",
      "display_name": "Python 3"
    },
    "language_info": {
      "name": "python"
    }
  },
  "cells": [
    {
      "cell_type": "markdown",
      "metadata": {
        "id": "view-in-github",
        "colab_type": "text"
      },
      "source": [
        "<a href=\"https://colab.research.google.com/github/Shristi0124/Image_To_Sketch/blob/main/ImageToSketch.ipynb\" target=\"_parent\"><img src=\"https://colab.research.google.com/assets/colab-badge.svg\" alt=\"Open In Colab\"/></a>"
      ]
    },
    {
      "cell_type": "code",
      "execution_count": 1,
      "metadata": {
        "id": "FUj1gEUrKVsv",
        "colab": {
          "base_uri": "https://localhost:8080/"
        },
        "outputId": "bdbda73d-8921-4375-d1ee-aaeca74ed4e5"
      },
      "outputs": [
        {
          "output_type": "stream",
          "name": "stdout",
          "text": [
            "Requirement already satisfied: imageio in /usr/local/lib/python3.11/dist-packages (2.37.0)\n",
            "Requirement already satisfied: numpy in /usr/local/lib/python3.11/dist-packages (from imageio) (2.0.2)\n",
            "Requirement already satisfied: pillow>=8.3.2 in /usr/local/lib/python3.11/dist-packages (from imageio) (11.1.0)\n"
          ]
        }
      ],
      "source": [
        "#Install imageio package\n",
        "!pip install imageio\n"
      ]
    },
    {
      "cell_type": "code",
      "source": [
        "%matplotlib inline\n",
        "import imageio\n",
        "import requests\n",
        "import matplotlib.pyplot as plt\n",
        "import IPython.display as dp\n",
        "\n",
        "\n",
        "#Display the image from the web using an URI.\n",
        "img = \"\"\n",
        "dp.Image(requests.get(img).content)"
      ],
      "metadata": {
        "id": "B4sEgxV-pdhk"
      },
      "execution_count": null,
      "outputs": []
    }
  ]
}